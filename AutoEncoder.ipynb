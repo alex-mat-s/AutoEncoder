{
 "cells": [
  {
   "cell_type": "markdown",
   "id": "2069f897",
   "metadata": {},
   "source": [
    "\n",
    "Task: (x, y) -> (phi) -> (x', y')"
   ]
  },
  {
   "cell_type": "code",
   "execution_count": 1,
   "id": "11cc591a",
   "metadata": {},
   "outputs": [],
   "source": [
    "import numpy as np\n",
    "import random\n",
    "import matplotlib.pyplot as plt\n",
    "import pandas as pd\n",
    "import seaborn as sns\n",
    "from tqdm import tqdm"
   ]
  },
  {
   "cell_type": "code",
   "execution_count": 2,
   "id": "5728f6f6",
   "metadata": {},
   "outputs": [],
   "source": [
    "%matplotlib inline\n",
    "sns.set_theme(style=\"whitegrid\")"
   ]
  },
  {
   "cell_type": "markdown",
   "id": "f750177d",
   "metadata": {},
   "source": [
    "- Xavier initilization (to initialize the weights)\n",
    "- Adam optimizer\n",
    "- MSE Loss"
   ]
  },
  {
   "cell_type": "markdown",
   "id": "ba994b2a",
   "metadata": {},
   "source": [
    "#### Data"
   ]
  },
  {
   "cell_type": "code",
   "execution_count": 3,
   "id": "880769c3",
   "metadata": {},
   "outputs": [],
   "source": [
    "# x^2 + y^2 = 1\n",
    "\n",
    "n = 300 # number of samples\n",
    "x = [random.uniform(-1, 1) for i in range(n)] # x coord\n",
    "sgn_lst = [-1, 1]\n",
    "\n",
    "sgn = []\n",
    "for i in range(n):\n",
    "    ind = random.randint(0, len(sgn_lst)-1)\n",
    "    sgn.append(sgn_lst[ind])\n",
    "    \n",
    "y = [sgn[i] * (1 - x[i] ** 2) ** 0.5 for i in range(n)]\n",
    "\n",
    "data = []\n",
    "for xi, yi in zip(x, y):\n",
    "    data.append([xi, yi])\n",
    "    \n",
    "data = np.array(data)"
   ]
  },
  {
   "cell_type": "code",
   "execution_count": 4,
   "id": "a03d736d",
   "metadata": {},
   "outputs": [
    {
     "data": {
      "text/plain": [
       "<matplotlib.collections.PathCollection at 0x7f53cdc70820>"
      ]
     },
     "execution_count": 4,
     "metadata": {},
     "output_type": "execute_result"
    },
    {
     "data": {
      "image/png": "[encoded data removed]",
      "text/plain": [
       "<Figure size 360x360 with 1 Axes>"
      ]
     },
     "metadata": {},
     "output_type": "display_data"
    }
   ],
   "source": [
    "plt.figure(figsize=(6, 6), dpi=60)\n",
    "plt.scatter(data[:,0], data[:,1])"
   ]
  },
  {
   "cell_type": "markdown",
   "id": "59a2e43d",
   "metadata": {},
   "source": [
    "#### Activatation functions"
   ]
  },
  {
   "cell_type": "code",
   "execution_count": 5,
   "id": "19296029",
   "metadata": {},
   "outputs": [],
   "source": [
    "def tanh(z):\n",
    "    return 2 / (1 + np.exp(-2 * z)) - 1\n",
    "\n",
    "def tanh_backward(z):\n",
    "    return (1 - tanh(z) ** 2) + 1e-12\n",
    "\n",
    "def relu(z):\n",
    "    return z * (z > 0)\n",
    "\n",
    "def relu_backward(z):\n",
    "    return (z > 0) + 1e-12"
   ]
  },
  {
   "cell_type": "markdown",
   "id": "1b9bba62",
   "metadata": {},
   "source": [
    "#### Architecture"
   ]
  },
  {
   "cell_type": "code",
   "execution_count": 6,
   "id": "5d371517",
   "metadata": {},
   "outputs": [],
   "source": [
    "layers = [\n",
    "    # activation, shape:(out,in)\n",
    "    {\"act\":relu, \"shape\":(20, 2)},\n",
    "    {\"act\":relu, \"shape\":(4, 20)},\n",
    "    {\"act\":relu, \"shape\":(1, 4)},\n",
    "    {\"act\":relu, \"shape\":(4, 1)},\n",
    "    {\"act\":relu, \"shape\":(20, 4)},\n",
    "    {\"act\":tanh, \"shape\":(2, 20)}\n",
    "]\n",
    "\n",
    "epochs = 300"
   ]
  },
  {
   "cell_type": "code",
   "execution_count": 7,
   "id": "f96d53f8",
   "metadata": {},
   "outputs": [],
   "source": [
    "# Adam updates\n",
    "def adam(m, v, z, dz, i, t):\n",
    "    lr, beta1, beta2 = 0.002, 0.9, 0.999\n",
    "            \n",
    "    # moving averages (with parameters beta1 and beta2)\n",
    "    m[i] = beta1 * m[i] + (1 - beta1) * dz[i]\n",
    "    v[i] = beta2 * v[i] + (1 - beta2) * dz[i]**2\n",
    "            \n",
    "    # bias correction of the moving averages\n",
    "    m_hat = m[i] / (1. - beta1**t)\n",
    "    v_hat = v[i] / (1. - beta2**t) \n",
    "            \n",
    "    # update the parameters (weights and biases)\n",
    "    z[i] -= lr * m_hat / (v_hat**0.5 + 1e-12)\n",
    "            \n",
    "    return z[i]"
   ]
  },
  {
   "cell_type": "code",
   "execution_count": 8,
   "id": "4b22990d",
   "metadata": {},
   "outputs": [],
   "source": [
    "def nn_train(architecture, epochs, train, val):\n",
    "    \n",
    "    # global properties\n",
    "    l, errors = len(architecture), []\n",
    "    # adam properties\n",
    "    vw, mw, vb, mb = {},{},{},{}\n",
    "    # layer properties\n",
    "    a, w, b, f, = {}, {}, {}, {}\n",
    "\n",
    "    for i, layer in zip(range(1, l+1), layers):\n",
    "        n_out, n_in = layer[\"shape\"]\n",
    "        f[i] = layer[\"act\"]\n",
    "        \n",
    "        # Xavier Initialization of weights\n",
    "        w[i] = np.random.randn(n_out, n_in) / n_in**0.5\n",
    "        b[i], vb[i], mb[i] = [np.zeros((n_out,1)) for i in [1,2,3]]\n",
    "        vw[i], mw[i] = [np.zeros((n_out, n_in)) for i in [1,2]]\n",
    "    \n",
    "    for t in tqdm(range(1, epochs+1)):\n",
    "    \n",
    "        # Train\n",
    "        for batch in np.split(data, 30):\n",
    "        \n",
    "            # Forward propagation\n",
    "            a[0] = batch.T\n",
    "            for i in range(1, l + 1):\n",
    "                a[i] = f[i](np.dot(w[i], a[i-1]) + b[i])\n",
    "        \n",
    "            # Backward propagation\n",
    "            dz, dw, db = {}, {}, {}\n",
    "            for i in range(1, l+1)[::-1]:\n",
    "                func = eval(f[i].__name__ + '_backward')\n",
    "                da = np.dot(w[i+1].T, dz[i+1]) if l-i else 0.5*(a[l] - a[0])\n",
    "                dz[i] = da * func(a[i])\n",
    "                dw[i] = np.dot(dz[i], a[i-1].T)\n",
    "                db[i] = np.sum(dz[i], 1, keepdims=True)\n",
    "           \n",
    "            # Adam optimization\n",
    "            for i in range(1,l+1):\n",
    "                # weights update\n",
    "                w[i] = adam(mw, vw, w, dw, i, t)\n",
    "                # biases update\n",
    "                b[i] = adam(mb, vb, b, db, i, t)\n",
    "            \n",
    "        # Validate, MSE\n",
    "        a[0] = val.T\n",
    "        for i in range(1,l+1):\n",
    "            a[i] = f[i](np.dot(w[i], a[i-1]) + b[i])\n",
    "        errors += [np.mean((a[l]-a[0])**2)]\n",
    "    #     print(\"Val loss - \", errors[-1])\n",
    "    \n",
    "    return errors, w, b"
   ]
  },
  {
   "cell_type": "markdown",
   "id": "6cf4be69",
   "metadata": {},
   "source": [
    "### Training on clean data"
   ]
  },
  {
   "cell_type": "code",
   "execution_count": 9,
   "id": "b804eff2",
   "metadata": {},
   "outputs": [],
   "source": [
    "# splitting of the sample into training, validation and test\n",
    "train, val, test = np.split(data, [int(.7*len(data)), int(.85*len(data))]) "
   ]
  },
  {
   "cell_type": "code",
   "execution_count": 10,
   "id": "e07825ec",
   "metadata": {},
   "outputs": [
    {
     "name": "stderr",
     "output_type": "stream",
     "text": [
      "100%|████████████████████████████████████████████████████████████████████| 300/300 [00:04<00:00, 63.91it/s]\n"
     ]
    }
   ],
   "source": [
    "errors, weights, bias = nn_train(layers, epochs, train, val)"
   ]
  },
  {
   "cell_type": "code",
   "execution_count": 11,
   "id": "e8785169",
   "metadata": {},
   "outputs": [
    {
     "data": {
      "text/plain": [
       "Text(0.5, 1.0, 'Loss')"
      ]
     },
     "execution_count": 11,
     "metadata": {},
     "output_type": "execute_result"
    },
    {
     "data": {
      "image/png": "[encoded data removed]",
      "text/plain": [
       "<Figure size 432x288 with 1 Axes>"
      ]
     },
     "metadata": {},
     "output_type": "display_data"
    }
   ],
   "source": [
    "idx = [i for i in range(len(errors))]\n",
    "plt.plot(idx, errors)\n",
    "plt.title(\"Loss\")"
   ]
  },
  {
   "cell_type": "code",
   "execution_count": 12,
   "id": "3195ef5d",
   "metadata": {},
   "outputs": [],
   "source": [
    "pred = []\n",
    "a, f = {}, {}\n",
    "a[0] = test.T\n",
    "l = len(layers)\n",
    "for i, layer in zip(range(1, l+1), layers):\n",
    "    f[i] = layer[\"act\"]\n",
    "#forward pass\n",
    "for i in range(1,len(layers)+1):\n",
    "    a[i] = f[i](np.dot(weights[i], a[i-1]) + bias[i])\n",
    "pred_= a[l]"
   ]
  },
  {
   "cell_type": "code",
   "execution_count": 13,
   "id": "aa4ba7ca",
   "metadata": {},
   "outputs": [],
   "source": [
    "data_ = []\n",
    "for xi, yi in zip(pred_[0], pred_[1]):\n",
    "    data_.append([xi, yi])\n",
    "data_  = np.array(data_)"
   ]
  },
  {
   "cell_type": "code",
   "execution_count": 14,
   "id": "8b5487a9",
   "metadata": {},
   "outputs": [
    {
     "name": "stdout",
     "output_type": "stream",
     "text": [
      "(-0.4105, 0.9118) ==> 0.1609==> (-0.4229, 0.9233)\n",
      "(-0.0441, 0.999) ==> 0.2283==> (-0.0434, 0.9734)\n",
      "(-0.0999, 0.995) ==> 0.2195==> (-0.0963, 0.9694)\n",
      "(0.4966, -0.868) ==> 1.0586==> (0.5146, -0.8943)\n",
      "(-0.6677, 0.7444) ==> 0.0893==> (-0.7085, 0.7761)\n",
      "(-0.9162, -0.4006) ==> 2.5046==> (-0.8719, -0.4093)\n",
      "(0.8636, 0.5042) ==> 0.5341==> (0.8518, 0.4648)\n",
      "(-0.8092, -0.5875) ==> 2.341==> (-0.8205, -0.5874)\n",
      "(0.3516, 0.9361) ==> 0.327==> (0.3629, 0.9427)\n",
      "(-0.0079, -1.0) ==> 1.2981==> (0.0128, -0.9755)\n",
      "(-0.9318, -0.363) ==> 2.5202==> (-0.876, -0.3901)\n",
      "(-0.4463, -0.8949) ==> 1.7321==> (-0.4445, -0.9159)\n",
      "(0.8673, -0.4978) ==> 0.7813==> (0.8408, -0.4976)\n",
      "(-0.8946, -0.4469) ==> 2.4781==> (-0.8646, -0.4411)\n",
      "(-0.0706, -0.9975) ==> 1.333==> (-0.0318, -0.973)\n",
      "(-0.1767, -0.9843) ==> 1.4336==> (-0.1432, -0.964)\n",
      "(0.4019, -0.9157) ==> 1.1094==> (0.4218, -0.9228)\n",
      "(-0.3685, 0.9296) ==> 0.1717==> (-0.3676, 0.9352)\n",
      "(0.023, -0.9997) ==> 1.288==> (0.0316, -0.9749)\n",
      "(0.0936, 0.9956) ==> 0.251==> (0.0968, 0.974)\n",
      "(0.2035, -0.9791) ==> 1.2074==> (0.2163, -0.9584)\n",
      "(0.9251, -0.3798) ==> 0.7328==> (0.8714, -0.371)\n",
      "(0.9729, -0.2313) ==> 0.6753==> (0.8989, -0.1959)\n",
      "(0.6267, 0.7792) ==> 0.4199==> (0.6616, 0.8277)\n",
      "(-0.3789, -0.9254) ==> 1.6561==> (-0.3738, -0.9321)\n",
      "(-0.2594, 0.9658) ==> 0.1989==> (-0.2175, 0.9576)\n",
      "(0.7098, -0.7044) ==> 0.8866==> (0.7507, -0.7097)\n",
      "(0.635, 0.7725) ==> 0.423==> (0.6694, 0.8213)\n",
      "(0.2545, 0.9671) ==> 0.3006==> (0.2562, 0.9585)\n",
      "(-0.2324, -0.9726) ==> 1.486==> (-0.2001, -0.9581)\n",
      "(-0.2815, -0.9596) ==> 1.5356==> (-0.2526, -0.9518)\n",
      "(-0.1653, 0.9862) ==> 0.2095==> (-0.1558, 0.9641)\n",
      "(-0.5089, 0.8608) ==> 0.1347==> (-0.5439, 0.8854)\n",
      "(-0.9292, 0.3697) ==> -0.0==> (-0.8903, 0.3088)\n",
      "(0.9301, 0.3674) ==> 0.5643==> (0.8758, 0.3358)\n",
      "(-0.9027, -0.4302) ==> 2.4886==> (-0.8676, -0.4286)\n",
      "(0.1871, 0.9823) ==> 0.2673==> (0.1405, 0.9704)\n",
      "(0.3928, 0.9196) ==> 0.3396==> (0.4109, 0.9333)\n",
      "(-0.5651, 0.825) ==> 0.1191==> (-0.6069, 0.8551)\n",
      "(-0.0919, -0.9958) ==> 1.3542==> (-0.0555, -0.9713)\n",
      "(0.9168, -0.3994) ==> 0.7399==> (0.8673, -0.3906)\n",
      "(0.6761, -0.7368) ==> 0.9206==> (0.7135, -0.76)\n",
      "(0.891, -0.4541) ==> 0.7624==> (0.8534, -0.4504)\n",
      "(0.8369, -0.5474) ==> 0.8018==> (0.826, -0.5459)\n",
      "(0.6496, -0.7603) ==> 0.9452==> (0.6837, -0.7916)\n"
     ]
    }
   ],
   "source": [
    "for i in range(len(test)):\n",
    "    print(f'({round(a[0][0][i], 4)}, {round(a[0][1][i], 4)}) ==> {round(a[3][0][i], 4)}'\\\n",
    "          f'==> ({round(a[6][0][i], 4)}, {round(a[6][1][i], 4)})')"
   ]
  },
  {
   "cell_type": "code",
   "execution_count": 15,
   "id": "8dcdd600",
   "metadata": {},
   "outputs": [
    {
     "name": "stdout",
     "output_type": "stream",
     "text": [
      "MSE, clean data: [0.0008127457613024423]\n"
     ]
    }
   ],
   "source": [
    "# model performance, MSE\n",
    "MSE = [np.mean((a[l]-a[0])**2)]\n",
    "print(f'MSE, clean data: {MSE}')"
   ]
  },
  {
   "cell_type": "code",
   "execution_count": 16,
   "id": "bca3e868",
   "metadata": {},
   "outputs": [
    {
     "data": {
      "image/png": "[encoded data removed]",
      "text/plain": [
       "<Figure size 360x360 with 1 Axes>"
      ]
     },
     "metadata": {},
     "output_type": "display_data"
    }
   ],
   "source": [
    "figure, axes = plt.subplots(figsize=(6, 6), dpi=60)\n",
    "plt.scatter(list(data_[:, 0]), list(data_[:, 1]))\n",
    "c = plt.Circle( (0, 0 ), 1 , fill = False, color='black')\n",
    "axes.set_aspect(1)\n",
    "axes.add_artist(c)\n",
    "plt.show()"
   ]
  },
  {
   "cell_type": "code",
   "execution_count": 17,
   "id": "9ea5c935",
   "metadata": {},
   "outputs": [],
   "source": [
    "# training on noisy data\n",
    "noise = np.random.normal(0, .1, data.shape)\n",
    "data_noise = data + noise"
   ]
  },
  {
   "cell_type": "code",
   "execution_count": 18,
   "id": "ebdd2403",
   "metadata": {},
   "outputs": [
    {
     "data": {
      "image/png": "[encoded data removed]",
      "text/plain": [
       "<Figure size 360x360 with 1 Axes>"
      ]
     },
     "metadata": {},
     "output_type": "display_data"
    }
   ],
   "source": [
    "figure, axes = plt.subplots(figsize=(6, 6), dpi=60)\n",
    "plt.scatter(data_noise[:,0], data_noise[:,1])\n",
    "c = plt.Circle( (0, 0 ), 1 , fill = False, color = 'black')\n",
    "axes.set_aspect(1)\n",
    "axes.add_artist(c)\n",
    "plt.show()"
   ]
  },
  {
   "cell_type": "code",
   "execution_count": 19,
   "id": "03fe8879",
   "metadata": {},
   "outputs": [],
   "source": [
    "# разделение выборки на тренировочную, валидационнцю и тестовую\n",
    "train_noisy, val_noisy, test_noisy = np.split(data_noise, [int(.7*len(data_noise)), int(.85*len(data))]) "
   ]
  },
  {
   "cell_type": "code",
   "execution_count": 20,
   "id": "516bf0d6",
   "metadata": {},
   "outputs": [
    {
     "name": "stderr",
     "output_type": "stream",
     "text": [
      "100%|████████████████████████████████████████████████████████████████████| 300/300 [00:04<00:00, 63.30it/s]\n"
     ]
    }
   ],
   "source": [
    "errors_noisy, weights_noisy, bias_noisy = nn_train(layers, epochs, train_noisy, val_noisy)"
   ]
  },
  {
   "cell_type": "code",
   "execution_count": 21,
   "id": "17a14466",
   "metadata": {},
   "outputs": [
    {
     "data": {
      "text/plain": [
       "Text(0.5, 1.0, 'Loss noisy')"
      ]
     },
     "execution_count": 21,
     "metadata": {},
     "output_type": "execute_result"
    },
    {
     "data": {
      "image/png": "[encoded data removed]",
      "text/plain": [
       "<Figure size 432x288 with 1 Axes>"
      ]
     },
     "metadata": {},
     "output_type": "display_data"
    }
   ],
   "source": [
    "idx = [i for i in range(len(errors_noisy))]\n",
    "plt.plot(idx, errors_noisy)\n",
    "plt.title(\"Loss noisy\")"
   ]
  },
  {
   "cell_type": "code",
   "execution_count": 22,
   "id": "b53fdffa",
   "metadata": {},
   "outputs": [],
   "source": [
    "pred_noisy = []\n",
    "a_noisy, f = {}, {}\n",
    "a_noisy[0] = test_noisy.T\n",
    "for i, layer in zip(range(1,len(layers)+1), layers):\n",
    "    f[i] = layer[\"act\"]\n",
    "#forward pass\n",
    "for i in range(1,len(layers)+1):\n",
    "    a_noisy[i] = f[i](np.dot(weights_noisy[i], a_noisy[i-1]) + bias_noisy[i])\n",
    "pred_noisy = a_noisy[l]"
   ]
  },
  {
   "cell_type": "code",
   "execution_count": 23,
   "id": "8ff6885e",
   "metadata": {},
   "outputs": [],
   "source": [
    "data_noisy_ = []\n",
    "for xi, yi in zip(pred_noisy[0], pred_noisy[1]):\n",
    "    data_noisy_.append([xi, yi])\n",
    "data_noisy_ = np.array(data_noisy_)"
   ]
  },
  {
   "cell_type": "code",
   "execution_count": 24,
   "id": "170fc228",
   "metadata": {},
   "outputs": [
    {
     "name": "stdout",
     "output_type": "stream",
     "text": [
      "(-0.2853, 0.7585) ==> 0.8297==> (-0.623, 0.836)\n",
      "(0.0159, 1.1496) ==> 1.2417==> (0.176, 0.9431)\n",
      "(0.2732, 1.0031) ==> 1.2982==> (0.2954, 0.9294)\n",
      "(0.4651, -0.961) ==> 0.1346==> (0.4607, -0.9053)\n",
      "(-0.6726, 0.7595) ==> 0.8131==> (-0.6708, 0.8001)\n",
      "(-1.0182, -0.417) ==> 0.6187==> (-0.8819, -0.2064)\n",
      "(0.7634, 0.4458) ==> 1.6559==> (0.8023, 0.7406)\n",
      "(-0.7448, -0.5421) ==> 0.5239==> (-0.7891, -0.5999)\n",
      "(0.4225, 0.9772) ==> 1.4045==> (0.4948, 0.8948)\n",
      "(-0.004, -1.0799) ==> 0.2102==> (0.0073, -0.9723)\n",
      "(-0.8571, -0.4011) ==> 0.5671==> (-0.8375, -0.4402)\n",
      "(-0.3567, -0.9764) ==> 0.3108==> (-0.3449, -0.9447)\n",
      "(0.7169, -0.5476) ==> 0.0478==> (0.7861, -0.6498)\n",
      "(-0.93, -0.6259) ==> 0.5801==> (-0.8499, -0.3855)\n",
      "(0.1704, -1.0825) ==> 0.1871==> (0.1558, -0.9596)\n",
      "(-0.2879, -1.0602) ==> 0.2755==> (-0.2373, -0.9611)\n",
      "(0.3536, -0.9374) ==> 0.1579==> (0.3338, -0.9348)\n",
      "(-0.2616, 0.6994) ==> 0.8061==> (-0.6895, 0.7829)\n",
      "(0.0046, -0.9638) ==> 0.2177==> (-0.0412, -0.9756)\n",
      "(0.0664, 1.0099) ==> 1.1925==> (0.0676, 0.9528)\n",
      "(0.2749, -0.9642) ==> 0.1689==> (0.2689, -0.9455)\n",
      "(0.8302, -0.4764) ==> 0.0172==> (0.851, -0.4768)\n",
      "(0.9247, -0.2864) ==> -0.0==> (0.8785, -0.3621)\n",
      "(0.6399, 0.6125) ==> 1.4532==> (0.5726, 0.874)\n",
      "(-0.2669, -0.9481) ==> 0.2853==> (-0.268, -0.9571)\n",
      "(-0.2434, 1.0363) ==> 1.056==> (-0.1875, 0.9621)\n",
      "(0.4762, -0.8301) ==> 0.1225==> (0.5201, -0.8853)\n",
      "(0.6815, 0.7645) ==> 1.5673==> (0.7195, 0.8096)\n",
      "(0.3238, 0.7567) ==> 1.2037==> (0.0925, 0.9508)\n",
      "(-0.185, -0.9595) ==> 0.2574==> (-0.1798, -0.9676)\n",
      "(-0.1794, -0.9804) ==> 0.2546==> (-0.1707, -0.9685)\n",
      "(-0.0745, 0.9999) ==> 1.1296==> (-0.0728, 0.963)\n",
      "(-0.5755, 0.9796) ==> 0.9095==> (-0.3414, 0.9361)\n",
      "(-0.7431, 0.3791) ==> 0.6987==> (-0.8804, 0.3364)\n",
      "(0.8086, 0.3758) ==> 1.7374==> (0.8585, 0.6594)\n",
      "(-0.8701, -0.4369) ==> 0.5697==> (-0.84, -0.4298)\n",
      "(0.1139, 1.0288) ==> 1.2214==> (0.1318, 0.9473)\n",
      "(0.4697, 0.8727) ==> 1.3852==> (0.4614, 0.9021)\n",
      "(-0.6316, 1.0658) ==> 0.9432==> (-0.3073, 0.9433)\n",
      "(-0.1246, -1.0939) ==> 0.2342==> (-0.1041, -0.9743)\n",
      "(0.9642, -0.3874) ==> -0.0==> (0.8785, -0.3621)\n",
      "(0.662, -0.7927) ==> 0.0781==> (0.6986, -0.7732)\n",
      "(0.8824, -0.3786) ==> -0.0==> (0.8785, -0.3621)\n",
      "(0.6962, -0.592) ==> 0.0557==> (0.7657, -0.6863)\n",
      "(0.7293, -0.9647) ==> 0.0756==> (0.7069, -0.7646)\n"
     ]
    }
   ],
   "source": [
    "for i in range(len(test_noisy)):\n",
    "    print(f'({round(a_noisy[0][0][i], 4)}, {round(a_noisy[0][1][i], 4)}) ==> {round(a_noisy[3][0][i], 4)}'\\\n",
    "          f'==> ({round(a_noisy[6][0][i], 4)}, {round(a_noisy[6][1][i], 4)})')"
   ]
  },
  {
   "cell_type": "code",
   "execution_count": 25,
   "id": "3b5ffcb0",
   "metadata": {},
   "outputs": [
    {
     "name": "stdout",
     "output_type": "stream",
     "text": [
      "MSE, noisy data: [0.013837723205978944]\n"
     ]
    }
   ],
   "source": [
    "MSE_noisy = [np.mean((a_noisy[l]-a_noisy[0])**2)]\n",
    "print(f'MSE, noisy data: {MSE_noisy}')"
   ]
  },
  {
   "cell_type": "code",
   "execution_count": 26,
   "id": "80dd4c32",
   "metadata": {},
   "outputs": [
    {
     "data": {
      "image/png": "[encoded data removed]",
      "text/plain": [
       "<Figure size 360x360 with 1 Axes>"
      ]
     },
     "metadata": {},
     "output_type": "display_data"
    }
   ],
   "source": [
    "figure, axes = plt.subplots(figsize=(6, 6), dpi=60)\n",
    "plt.scatter(list(data_[:, 0]), list(data_noisy_[:, 1]))\n",
    "c = plt.Circle( (0, 0 ), 1 , fill = False, color='black')\n",
    "axes.set_aspect(1)\n",
    "axes.add_artist(c)\n",
    "plt.show()"
   ]
  },
  {
   "cell_type": "code",
   "execution_count": null,
   "id": "af8d75f9",
   "metadata": {},
   "outputs": [],
   "source": []
  }
 ],
 "metadata": {
  "kernelspec": {
   "display_name": "Python 3 (ipykernel)",
   "language": "python",
   "name": "python3"
  },
  "language_info": {
   "codemirror_mode": {
    "name": "ipython",
    "version": 3
   },
   "file_extension": ".py",
   "mimetype": "text/x-python",
   "name": "python",
   "nbconvert_exporter": "python",
   "pygments_lexer": "ipython3",
   "version": "3.8.10"
  }
 },
 "nbformat": 4,
 "nbformat_minor": 5
}
